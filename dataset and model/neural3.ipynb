{
  "metadata": {
    "kernelspec": {
      "name": "python",
      "display_name": "Python (Pyodide)",
      "language": "python"
    },
    "language_info": {
      "codemirror_mode": {
        "name": "python",
        "version": 3
      },
      "file_extension": ".py",
      "mimetype": "text/x-python",
      "name": "python",
      "nbconvert_exporter": "python",
      "pygments_lexer": "ipython3",
      "version": "3.8"
    }
  },
  "nbformat_minor": 4,
  "nbformat": 4,
  "cells": [
    {
      "cell_type": "code",
      "source": "import pandas as pd\nfrom sklearn.model_selection import train_test_split\nfrom sklearn.preprocessing import LabelEncoder, StandardScaler\nimport tensorflow as tf\nfrom tensorflow.keras import layers, models",
      "metadata": {
        "trusted": true
      },
      "outputs": [],
      "execution_count": null
    },
    {
      "cell_type": "markdown",
      "source": "Load data from CSV file",
      "metadata": {}
    },
    {
      "cell_type": "code",
      "source": "data = pd.read_csv('cric_csv_with_winner3.csv')",
      "metadata": {
        "trusted": true
      },
      "outputs": [],
      "execution_count": null
    },
    {
      "cell_type": "markdown",
      "source": "Replace '-' with 0 in the specified columns",
      "metadata": {}
    },
    {
      "cell_type": "code",
      "source": "columns_to_replace = ['Matches', 'Runs', 'HS_without_asterisk', 'Bat_Avg', '100s', 'Wkts', 'Bowl_Avg', '5fer', 'Catches', 'Stumping', 'Avg_Diff']\ndata[columns_to_replace] = data[columns_to_replace].replace('-', 0)",
      "metadata": {},
      "outputs": [],
      "execution_count": null
    },
    {
      "cell_type": "code",
      "source": "#Replace '' with blank in the 'HS' column\ndata['HS'] = data['HS'].str.replace('', '')",
      "metadata": {
        "trusted": true
      },
      "outputs": [],
      "execution_count": null
    },
    {
      "cell_type": "code",
      "source": "# Convert 'HS' column to numeric, handling other non-numeric values<br>\ndata['HS'] = pd.to_numeric(data['HS'], errors='coerce').fillna(0).astype(int)",
      "metadata": {
        "trusted": true
      },
      "outputs": [],
      "execution_count": null
    },
    {
      "cell_type": "markdown",
      "source": "\nprint(data['HS'].unique())",
      "metadata": {}
    },
    {
      "cell_type": "code",
      "source": "# Remove the 'HS' column from the DataFrame<br>\ndata.drop('HS', axis=1, inplace=True)",
      "metadata": {
        "trusted": true
      },
      "outputs": [],
      "execution_count": null
    },
    {
      "cell_type": "code",
      "source": "#Encode country names (output labels)\nlabel_encoder = LabelEncoder()\ndata['Winner'] = label_encoder.fit_transform(data['Winner'])",
      "metadata": {},
      "outputs": [],
      "execution_count": null
    },
    {
      "cell_type": "markdown",
      "source": "Replace '*' with blank in the entire DataFrame",
      "metadata": {}
    },
    {
      "cell_type": "code",
      "source": "data = data.replace('*', '')",
      "metadata": {},
      "outputs": [],
      "execution_count": null
    },
    {
      "cell_type": "markdown",
      "source": "Create a list to store match-wise features and labels",
      "metadata": {}
    },
    {
      "cell_type": "code",
      "source": "match_features = []\nmatch_labels = []",
      "metadata": {},
      "outputs": [],
      "execution_count": null
    },
    {
      "cell_type": "markdown",
      "source": "Group data by match ID",
      "metadata": {}
    },
    {
      "cell_type": "code",
      "source": "grouped_data = data.groupby('scorecard')",
      "metadata": {},
      "outputs": [],
      "execution_count": null
    },
    {
      "cell_type": "code",
      "source": "for group_name, group_data in grouped_data:\n    # Select the first 11 records for team 1 and the next 11 records for team 2\n    team1_data = group_data.iloc[:11]\n    team2_data = group_data.iloc[11:22]\n\n    # Extract relevant columns for each player\n    team1_features = team1_data[['Matches', 'Runs', 'HS_without_asterisk', 'Bat_Avg', '100s', 'Wkts', 'Bowl_Avg', '5fer', 'Catches', 'Stumping', 'Avg_Diff']].values.flatten()\n    team2_features = team2_data[['Matches', 'Runs', 'HS_without_asterisk', 'Bat_Avg', '100s', 'Wkts', 'Bowl_Avg', '5fer', 'Catches', 'Stumping', 'Avg_Diff']].values.flatten()\n\n    # Combine the features of both teams\n    match_features.append(pd.concat([pd.Series(team1_features), pd.Series(team2_features)], axis=0, ignore_index=True))\n    match_labels.append(group_data['Winner'].iloc[0])\n    # print(group_data['Winner'])",
      "metadata": {},
      "outputs": [],
      "execution_count": null
    },
    {
      "cell_type": "code",
      "source": "print(match_features)\n# Convert the list of features and labels to DataFrame\nX = pd.DataFrame(match_features)",
      "metadata": {},
      "outputs": [],
      "execution_count": null
    },
    {
      "cell_type": "markdown",
      "source": "Reset the index to ensure uniqueness<br>\nX.reset_index(drop=True, inplace=True)",
      "metadata": {}
    },
    {
      "cell_type": "code",
      "source": "y = pd.Series(match_labels)",
      "metadata": {},
      "outputs": [],
      "execution_count": null
    },
    {
      "cell_type": "markdown",
      "source": "Split the data into training and testing sets",
      "metadata": {}
    },
    {
      "cell_type": "code",
      "source": "X_train, X_test, y_train, y_test = train_test_split(X, y, test_size=0.2, random_state=42)",
      "metadata": {},
      "outputs": [],
      "execution_count": null
    },
    {
      "cell_type": "code",
      "source": "print(X_train)\nX_train = X_train.replace('*', '')",
      "metadata": {},
      "outputs": [],
      "execution_count": null
    },
    {
      "cell_type": "markdown",
      "source": "Find the row and column where '*' occurs",
      "metadata": {}
    },
    {
      "cell_type": "code",
      "source": "row, col = (X_train == '*').values.any(axis=1), (X_train == '*').values.any(axis=0)",
      "metadata": {},
      "outputs": [],
      "execution_count": null
    },
    {
      "cell_type": "markdown",
      "source": "Get the indices of the row and column where '*' occurs",
      "metadata": {}
    },
    {
      "cell_type": "code",
      "source": "row_indices, col_indices = row.argmax(), col.argmax()",
      "metadata": {},
      "outputs": [],
      "execution_count": null
    },
    {
      "cell_type": "markdown",
      "source": "Print the row and column where '*' occurs",
      "metadata": {}
    },
    {
      "cell_type": "code",
      "source": "print(f\"Row index 1: {row_indices}, Column index 1: {col_indices}\")",
      "metadata": {},
      "outputs": [],
      "execution_count": null
    },
    {
      "cell_type": "markdown",
      "source": "Standardize the input features",
      "metadata": {}
    },
    {
      "cell_type": "code",
      "source": "scaler = StandardScaler()\nX_train = scaler.fit_transform(X_train)\nX_test = scaler.transform(X_test)",
      "metadata": {},
      "outputs": [],
      "execution_count": null
    },
    {
      "cell_type": "markdown",
      "source": "Create the model",
      "metadata": {}
    },
    {
      "cell_type": "code",
      "source": "model = models.Sequential()",
      "metadata": {},
      "outputs": [],
      "execution_count": null
    },
    {
      "cell_type": "markdown",
      "source": "Input layer",
      "metadata": {}
    },
    {
      "cell_type": "code",
      "source": "model.add(layers.InputLayer(input_shape=(X_train.shape[1],)))",
      "metadata": {},
      "outputs": [],
      "execution_count": null
    },
    {
      "cell_type": "markdown",
      "source": "Hidden layers",
      "metadata": {}
    },
    {
      "cell_type": "code",
      "source": "model.add(layers.Dense(64, activation='relu'))\nmodel.add(layers.Dense(32, activation='relu'))",
      "metadata": {},
      "outputs": [],
      "execution_count": null
    },
    {
      "cell_type": "markdown",
      "source": "Output layer with softmax activation for multi-class classification",
      "metadata": {}
    },
    {
      "cell_type": "code",
      "source": "model.add(layers.Dense(len(label_encoder.classes_), activation='softmax'))",
      "metadata": {},
      "outputs": [],
      "execution_count": null
    },
    {
      "cell_type": "markdown",
      "source": "Compile the model",
      "metadata": {}
    },
    {
      "cell_type": "code",
      "source": "model.compile(optimizer='adam', loss='sparse_categorical_crossentropy', metrics=['accuracy'])",
      "metadata": {},
      "outputs": [],
      "execution_count": null
    },
    {
      "cell_type": "markdown",
      "source": "Train the model",
      "metadata": {}
    },
    {
      "cell_type": "code",
      "source": "print(\"Training started...\")\nhistory = model.fit(X_train, y_train, epochs=20, batch_size=32, validation_data=(X_test, y_test))",
      "metadata": {},
      "outputs": [],
      "execution_count": null
    },
    {
      "cell_type": "markdown",
      "source": "Evaluate the model",
      "metadata": {}
    },
    {
      "cell_type": "code",
      "source": "test_loss, test_acc = model.evaluate(X_test, y_test)\nprint(f'Test Accuracy: {test_acc}')",
      "metadata": {},
      "outputs": [],
      "execution_count": null
    },
    {
      "cell_type": "markdown",
      "source": "Print training history",
      "metadata": {}
    },
    {
      "cell_type": "code",
      "source": "print(\"Training History:\")\nprint(history.history)",
      "metadata": {},
      "outputs": [],
      "execution_count": null
    }
  ]
}